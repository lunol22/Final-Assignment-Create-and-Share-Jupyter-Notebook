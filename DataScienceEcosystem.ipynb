{
 "cells": [
  {
   "cell_type": "markdown",
   "id": "e7f0e753-7807-4051-a330-8d7f0aed8b46",
   "metadata": {},
   "source": [
    "# Data Science Tools and Ecosystem"
   ]
  },
  {
   "cell_type": "markdown",
   "id": "11fb0885-2bb7-43aa-9d72-4cc230607275",
   "metadata": {},
   "source": [
    "In this notebook, Data Science Tools and Ecosystems are summarized."
   ]
  },
  {
   "cell_type": "markdown",
   "id": "8f85e156-3b82-48f3-8f0c-bba7ac7c8b1f",
   "metadata": {},
   "source": [
    "**Objectives:**\n",
    "- List popular languages for data science\n",
    "- list some commonly used libraries for data scientists\n",
    "- list some commonly used IDEs (integrated development environments)\n",
    "- learn basic usage of Jupyter Notebook, RStudio, and GitHub"
   ]
  },
  {
   "cell_type": "markdown",
   "id": "ac6145cc-ca2b-48fe-b94c-8a8c53a71a83",
   "metadata": {},
   "source": [
    "Some of the popular languages that Data Scientists use are\n",
    "1. Python\n",
    "2. R\n",
    "3. SQL\n",
    "4. Scala\n",
    "5. Java\n",
    "6. C++\n",
    "7. Julia "
   ]
  },
  {
   "cell_type": "markdown",
   "id": "af68654f-ba95-4825-91e8-9605d2044f66",
   "metadata": {},
   "source": [
    "Some of the commonly used libraries used by Data Scientists:\n",
    "1. Pandas\n",
    "2. NumPy\n",
    "3. SciPy\n",
    "4. Matplotlib\n",
    "5. TensorFlow\n",
    "6. PyTorch\n",
    "7. Keras\n",
    "8. Scikit-learn\n"
   ]
  },
  {
   "cell_type": "markdown",
   "id": "86069b77-ef11-4364-a612-aee807594685",
   "metadata": {},
   "source": [
    "|Data Science Tools|\n",
    "|---|\n",
    "|Jupyter Notebook|\n",
    "|Jupyter Lab|\n",
    "|RStudio|\n",
    "|Spyder|"
   ]
  },
  {
   "cell_type": "markdown",
   "id": "12bdb65f-15b4-47cb-890c-efbb9f3f1d74",
   "metadata": {},
   "source": [
    "### Below are a few examples of evaluating arithmetic expressions in Python."
   ]
  },
  {
   "cell_type": "code",
   "execution_count": 9,
   "id": "5ad1b2cc-78d7-43ff-891c-62ef0f9c5acf",
   "metadata": {},
   "outputs": [
    {
     "data": {
      "text/plain": [
       "17"
      ]
     },
     "execution_count": 9,
     "metadata": {},
     "output_type": "execute_result"
    }
   ],
   "source": [
    "#This is a simple arithmetic expression to multiply and then add integers.\n",
    "(3*4)+5"
   ]
  },
  {
   "cell_type": "code",
   "execution_count": 11,
   "id": "5c2daecf-8ef4-4938-92ea-2a57e620c469",
   "metadata": {},
   "outputs": [
    {
     "data": {
      "text/plain": [
       "3.3333333333333335"
      ]
     },
     "execution_count": 11,
     "metadata": {},
     "output_type": "execute_result"
    }
   ],
   "source": [
    "#This will convert 200 minutes to hours by dividing by 60.\n",
    "200/60"
   ]
  },
  {
   "cell_type": "markdown",
   "id": "dc75eb2a-3f07-4989-abbc-1f94a0142c47",
   "metadata": {},
   "source": [
    "## Author\n",
    "Luke N"
   ]
  },
  {
   "cell_type": "code",
   "execution_count": null,
   "id": "d59e8616-27a0-4942-a8c3-651ddb7f1327",
   "metadata": {},
   "outputs": [],
   "source": []
  }
 ],
 "metadata": {
  "kernelspec": {
   "display_name": "Python 3 (ipykernel)",
   "language": "python",
   "name": "python3"
  },
  "language_info": {
   "codemirror_mode": {
    "name": "ipython",
    "version": 3
   },
   "file_extension": ".py",
   "mimetype": "text/x-python",
   "name": "python",
   "nbconvert_exporter": "python",
   "pygments_lexer": "ipython3",
   "version": "3.12.4"
  }
 },
 "nbformat": 4,
 "nbformat_minor": 5
}
